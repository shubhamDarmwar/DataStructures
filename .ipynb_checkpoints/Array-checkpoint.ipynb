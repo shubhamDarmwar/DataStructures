{
 "cells": [
  {
   "cell_type": "markdown",
   "metadata": {},
   "source": [
    "# Sotrting"
   ]
  },
  {
   "cell_type": "markdown",
   "metadata": {},
   "source": [
    "## Bubble sort (Improved)\n",
    "Worst Case Time : O(n2)\n",
    "Best case time: O(n)"
   ]
  },
  {
   "cell_type": "code",
   "execution_count": 1,
   "metadata": {},
   "outputs": [],
   "source": [
    "def bubbleSort(array):\n",
    "    for i in reversed(range(len(array))):\n",
    "        swapped = False # this will notify about sorted condition of array\n",
    "        for j in range(i):\n",
    "            if array[j]>array[j+1]:\n",
    "                temp = array[j]\n",
    "                array[j] = array[j+1]\n",
    "                array[j+1] = temp\n",
    "                swapped == True\n",
    "        if not swapped:\n",
    "            break"
   ]
  },
  {
   "cell_type": "code",
   "execution_count": 2,
   "metadata": {},
   "outputs": [
    {
     "data": {
      "text/plain": [
       "[1, 0, 3, 4]"
      ]
     },
     "execution_count": 2,
     "metadata": {},
     "output_type": "execute_result"
    }
   ],
   "source": [
    "a = [1,3,0,4]\n",
    "bubbleSort(a)\n",
    "a\n"
   ]
  },
  {
   "cell_type": "markdown",
   "metadata": {},
   "source": [
    "## Selection Sort:\n",
    "\n",
    "Selection sort is an in-place sorting algorithm. Selection sort works well for small files. It is used\n",
    "for sorting the files with very large values and small keys. This is because selection is made\n",
    "based on keys and swaps are made only when required.\n",
    "\n",
    "#### Algorithm\n",
    "1. Find the minimum value in the list\n",
    "2. Swap it with the value in the current position\n",
    "3. Repeat this process for all the elements until the entire array is sorted\n",
    "\n",
    "This algorithm is called selection sort since it repeatedly selects the smallest element.\n",
    "\n",
    "Worst case complexity : O(n2)<br>\n",
    "Best case complexity : O(n2)<br>\n",
    "Average case complexity : O(n2)<br>\n",
    "Worst case space complexity: O(1) auxiliary"
   ]
  },
  {
   "cell_type": "code",
   "execution_count": 3,
   "metadata": {},
   "outputs": [],
   "source": [
    "def selectionSort(array):\n",
    "    for i in range(len(array)):\n",
    "        smallest = i\n",
    "        for j in range(i,len(array)):\n",
    "            if array[i]> array[j]:\n",
    "                smallest = j\n",
    "                \n",
    "        temp = array[smallest]\n",
    "        array[smallest] = array[i]\n",
    "        array[i] = temp"
   ]
  },
  {
   "cell_type": "code",
   "execution_count": 4,
   "metadata": {},
   "outputs": [
    {
     "data": {
      "text/plain": [
       "[0, 1, 3, 4]"
      ]
     },
     "execution_count": 4,
     "metadata": {},
     "output_type": "execute_result"
    }
   ],
   "source": [
    "array = [1,3,0,4]\n",
    "selectionSort(array)\n",
    "array"
   ]
  },
  {
   "cell_type": "markdown",
   "metadata": {},
   "source": [
    "## Insertion Sort\n",
    "Insertion sort is a simple and efficient comparison sort. In this algorithm, each iteration removes\n",
    "an element from the input data and inserts it into the correct position in the list being sorted. The\n",
    "choice of the element being removed from the input is random and this process is repeated until\n",
    "all input elements have gone through.\n",
    "\n",
    "#### Advantages\n",
    "\n",
    "1. Adaptive: If the input list is presorted [may not be completely] then insertions sort\n",
    "takes O(n + d), where d is the number of inversions\n",
    "2. Practically more efficient than selection and bubble sorts, even though all of them\n",
    "have O(n2) worst case complexity\n",
    "3. Stable: Maintains relative order of input data if the keys are same\n",
    "\n",
    "Worst case complexity: Θ(n2)<br>\n",
    "Best case complexity: Θ(n)<br>\n",
    "Average case complexity: Θ(n2)<br>\n",
    "Worst case space complexity: O(n2) total, O(1) auxiliary\n"
   ]
  },
  {
   "cell_type": "code",
   "execution_count": 5,
   "metadata": {},
   "outputs": [],
   "source": [
    "def insertionSort(array):\n",
    "    for i in range(1,len(array)):\n",
    "        temp = array[i]\n",
    "        j = i\n",
    "        while j > 0:\n",
    "            if array[j] < array[j - 1]:\n",
    "                temp = array[j - 1]\n",
    "                array[j - 1] = array[j]\n",
    "                array[j] = temp\n",
    "            else:\n",
    "                break\n",
    "#             print(\"swap\") \n",
    "            j -= 1\n",
    "        "
   ]
  },
  {
   "cell_type": "code",
   "execution_count": 6,
   "metadata": {},
   "outputs": [
    {
     "data": {
      "text/plain": [
       "[1, 2, 3, 4, 5, 6]"
      ]
     },
     "execution_count": 6,
     "metadata": {},
     "output_type": "execute_result"
    }
   ],
   "source": [
    "#array = [1,2,3,4]\n",
    "array = [6,5,4,3,2,1]\n",
    "insertionSort(array)\n",
    "array"
   ]
  },
  {
   "cell_type": "markdown",
   "metadata": {},
   "source": [
    "## Merge sort\n",
    "The top-down merge sort approach is the methodology which uses recursion mechanism. It starts at the Top and proceeds downwards, with each recursive turn asking the same question such as “What is required to be done to sort the array?” and having the answer as, “split the array into two, make a recursive call, and merge the results.”, until one gets to the bottom of the array-tree.\n",
    "\n",
    "Worst case complexity : Θ(nlogn)<br>\n",
    "Best case complexity : Θ(nlogn)<br>\n",
    "Average case complexity : Θ(nlogn)<br>\n",
    "Worst case space complexity: Θ(n) auxiliary<br>"
   ]
  },
  {
   "cell_type": "code",
   "execution_count": 41,
   "metadata": {},
   "outputs": [],
   "source": [
    "#array - original array\n",
    "#s1,s2 - Start of two subarrays\n",
    "#e1,e2 - end\n",
    "def merge(array,s1,e1,s2,e2):\n",
    "    r = [0] * (e1-s1 + e2 - s2 + 2) # Initialize the result array of size\n",
    "    i = 0 # index for result array\n",
    "    a = s1 # index for first array\n",
    "    b = s2 # index for second array\n",
    "    \n",
    "    # Following is the algorithm to merger two sorted array (Result)\n",
    "    while a <= e1 and b <= e2:\n",
    "        if array[a] <= array[b]:\n",
    "            r[i] = array[a]\n",
    "            i += 1\n",
    "            a += 1\n",
    "        else:\n",
    "            r[i] = array[b]\n",
    "            i += 1\n",
    "            b += 1\n",
    "    \n",
    "    while a <= e1:\n",
    "        r[i] = array[a]\n",
    "        i += 1\n",
    "        a += 1\n",
    "    while b <= e2:\n",
    "        r[i] = array[b]\n",
    "        i += 1\n",
    "        b += 1\n",
    "    \n",
    "    # Place all sorted elements in original array\n",
    "    j = s1\n",
    "    i = 0\n",
    "    while j <= e2:\n",
    "        array[j] = r[i]\n",
    "        i += 1\n",
    "        j += 1\n",
    "    \n",
    "#array - Array to be sort\n",
    "#start - start index\n",
    "#end - end index\n",
    "def mergeSort(array, start, end):\n",
    "    if start >= end:\n",
    "        return\n",
    "    mid = int((start + end)/2)\n",
    "    mergeSort(array,start,mid)\n",
    "    mergeSort(array,mid + 1, end)\n",
    "    merge(array, start, mid, mid + 1, end)\n",
    "    "
   ]
  },
  {
   "cell_type": "code",
   "execution_count": 42,
   "metadata": {},
   "outputs": [
    {
     "data": {
      "text/plain": [
       "[1, 2, 3, 4, 5, 6]"
      ]
     },
     "execution_count": 42,
     "metadata": {},
     "output_type": "execute_result"
    }
   ],
   "source": [
    "array = [4,6,5,1,3,2]\n",
    "array = [6,5,4,3,2,1]\n",
    "mergeSort(array, 0,5)\n",
    "array"
   ]
  },
  {
   "cell_type": "markdown",
   "metadata": {},
   "source": [
    "## Quick sort\n",
    "\n",
    "#### Algorithm\n",
    "The recursive algorithm consists of four steps:<br>\n",
    "1. If there are one or no elements in the array to be sorted, return.\n",
    "2. Pick an element in the array to serve as the “pivot” point. (Usually the right-most element in the array is used.)\n",
    "3. Split the array into two parts – one with elements larger than the pivot and the other with elements smaller than the pivot.\n",
    "4. Recursively repeat the algorithm for both halves of the original array.\n",
    "\n",
    "Worst case Complexity: O(n2)<br>\n",
    "Best case Complexity: O(nlogn)<br>\n",
    "Average case Complexity: O(nlogn)<br>\n",
    "Worst case space Complexity: O(1)\n",
    "\n",
    "Ref: https://www.interviewbit.com/tutorial/quicksort-algorithm/\n",
    "\n",
    "In real life it is very high probability that Quick sort requires O(n2). Hence to utilize the space sort function in most of the languages implement Quick sort."
   ]
  },
  {
   "cell_type": "code",
   "execution_count": 43,
   "metadata": {},
   "outputs": [],
   "source": [
    "\n",
    "# This function takes last element as pivot, places \n",
    "# the pivot element at its correct position in sorted \n",
    "# array, and places all smaller (smaller than pivot) \n",
    "# to left of pivot and all greater elements to right \n",
    "# of pivot \n",
    "def partition(array, start, end):\n",
    "    pivot = array[end]\n",
    "    pIndex = start\n",
    "    #Find exact pIndex where we can place our pivot value\n",
    "    for i in range(start, end):\n",
    "        if array[i] <= pivot:\n",
    "            #swap\n",
    "            array[i], array[pIndex] = array[pIndex], array[i]\n",
    "            pIndex += 1\n",
    "    # Place pivot value at new pIndex\n",
    "    array[pIndex], array[end] = array[end], array[pIndex]\n",
    "    return pIndex\n",
    "    \n",
    "# The main function that implements QuickSort \n",
    "# arr[] --> Array to be sorted, \n",
    "# low --> Starting index, \n",
    "# high --> Ending index \n",
    "# We call quickSort function recursively to devide sorting in first half and second half. \n",
    "# For each nested call partition functionn fixes one element at the right position.\n",
    "def quickSort(array, start, end):\n",
    "    if start >= end:\n",
    "        return\n",
    "    # Get the pivot value \n",
    "    pIndex = partition(array, start, end)\n",
    "    # Till now we placed one middle element at the right position. Also all the elements in left half are less than pivot vale\n",
    "    # Do it for first half and second half\n",
    "    quickSort(array, start, pIndex - 1)\n",
    "    quickSort(array, pIndex + 1, end)\n",
    "    "
   ]
  },
  {
   "cell_type": "code",
   "execution_count": 44,
   "metadata": {},
   "outputs": [
    {
     "data": {
      "text/plain": [
       "[1, 2, 3, 4, 5]"
      ]
     },
     "execution_count": 44,
     "metadata": {},
     "output_type": "execute_result"
    }
   ],
   "source": [
    "array = [5,4,3,2,1]\n",
    "quickSort(array,0,4)\n",
    "array"
   ]
  },
  {
   "cell_type": "markdown",
   "metadata": {},
   "source": [
    "## Counting Sort:\n",
    "Counting sort is not a comparison sort algorithm and gives O(n) complexity for sorting. To achieve O(n) complexity, counting sort assumes that each of the elements is an integer in the range 1 to K, for some integer K. When if = O(n), the counting sort runs in O(n) time. The basic idea of Counting sort is to determine, for each input element X, the number of elements less than X. This information can be used to place it directly into its correct position. For example, if 10 elements are less than X, then X belongs to position 11 in the output.\n",
    "#### Algorithm:\n",
    "1. Create count array of size K and initialize it with zeros.\n",
    "2. Loop through input array and store count of each element in count array\n",
    "3. Loop through count array and perform cumulative sum. This will represent position of the respective number\n",
    "4. Loop through array, find the position of the element in count array and place it in new array. Decrement position in count array"
   ]
  },
  {
   "cell_type": "code",
   "execution_count": 11,
   "metadata": {},
   "outputs": [],
   "source": [
    "def countingSort(array,K):\n",
    "    count = [0] * K\n",
    "    result = [-1] * len(array)\n",
    "    # Count each number count\n",
    "    for i in range(len(array)):\n",
    "        count[array[i]] += 1\n",
    "\n",
    "    # count Array will contain positions of the elements (index is the element)\n",
    "    for i in range(1,K): \n",
    "        count[i] = count[i-1] + count[i]\n",
    "    # This will fill original\n",
    "    for i in range(len(array)):\n",
    "        position = count[array[i]] -1\n",
    "        result[position] = array[i]\n",
    "        count[array[i]] -= 1\n",
    "    return result    \n",
    "    \n"
   ]
  },
  {
   "cell_type": "code",
   "execution_count": 12,
   "metadata": {},
   "outputs": [
    {
     "data": {
      "text/plain": [
       "[0, 0, 1, 2, 3, 4, 5, 5, 7, 8, 8, 8]"
      ]
     },
     "execution_count": 12,
     "metadata": {},
     "output_type": "execute_result"
    }
   ],
   "source": [
    "countingSort([0,0,2,8,8,8,7,5,5,4,3,1],10)"
   ]
  },
  {
   "cell_type": "markdown",
   "metadata": {},
   "source": [
    "## Radix Sort\n",
    "In Radix sort, first sort the elements based on the last digit [the least significant digit]. These results are again sorted by second digit [the next to least significant digit]. Continue this process for all digits until we reach the most significant digits. Use some stable sort to sort them by last digit. Then stable sort them by the second least significant digit, then by the third, etc. If we use Counting sort as the stable sort, the total time is O(nd) ≈ O(n).\n",
    "#### Algorithm:\n",
    "1. Take the least significant digit of each element.\n",
    "2. Sort the list of elements based on that digit, but keep the order of elements with the same digit (this is the definition of a stable sort).\n",
    "3. Repeat the sort with each more significant digit."
   ]
  },
  {
   "cell_type": "code",
   "execution_count": 13,
   "metadata": {},
   "outputs": [],
   "source": [
    "def countDigits(val):\n",
    "\n",
    "    temp = val\n",
    "    count = 0\n",
    "    while temp > 0:\n",
    "        count += 1\n",
    "        temp = int(temp/10)\n",
    "    return count\n",
    "\n",
    "def radixSort(array):\n",
    "    length = len(array)\n",
    "    \n",
    "    #find number of digits in largest number\n",
    "    maxVal = array[0]\n",
    "    for element in array:\n",
    "        if element > maxVal:\n",
    "            maxVal = element\n",
    "    digits = countDigits(maxVal)\n",
    "    \n",
    "    \n",
    "    for i in range(digits):\n",
    "        \n",
    "        # as we are dealing with decimal numbers we need 10 buckets\n",
    "        buckets = [[],[],[],[],[],[],[],[],[],[]]\n",
    "        \n",
    "        # Store elements in bucket at index current digit\n",
    "        for element in array:\n",
    "            digit = int(element / pow(10, i)) % 10\n",
    "            buckets[digit].append(element)\n",
    "\n",
    "        # Rewrite the element in poping from buckets on by one\n",
    "        i = 0\n",
    "        for bucket in buckets:\n",
    "            for element in bucket:\n",
    "                array[i] = element\n",
    "                i += 1"
   ]
  },
  {
   "cell_type": "code",
   "execution_count": 14,
   "metadata": {},
   "outputs": [
    {
     "data": {
      "text/plain": [
       "[0, 1, 2, 6, 34, 35, 52, 786]"
      ]
     },
     "execution_count": 14,
     "metadata": {},
     "output_type": "execute_result"
    }
   ],
   "source": [
    "array = [34,52,6,2,1,786,0,35]\n",
    "radixSort(array)\n",
    "array"
   ]
  },
  {
   "cell_type": "markdown",
   "metadata": {},
   "source": [
    "# Searching\n",
    "\n",
    "## Binary search"
   ]
  },
  {
   "cell_type": "code",
   "execution_count": 15,
   "metadata": {},
   "outputs": [],
   "source": [
    "def binarySearch(array, number):\n",
    "    left = 0\n",
    "    right = len(array) - 1\n",
    "    \n",
    "    while left <= right:\n",
    "        mid = int((left + right)/2)\n",
    "        if array[mid] == number:\n",
    "            return True\n",
    "        if number > array[mid]:\n",
    "            left = mid + 1\n",
    "        else: \n",
    "            right = mid - 1\n",
    "    return False\n",
    "    "
   ]
  },
  {
   "cell_type": "code",
   "execution_count": 16,
   "metadata": {},
   "outputs": [
    {
     "data": {
      "text/plain": [
       "True"
      ]
     },
     "execution_count": 16,
     "metadata": {},
     "output_type": "execute_result"
    }
   ],
   "source": [
    "binarySearch([1,2,3,4,5,6,7,8],4)"
   ]
  },
  {
   "cell_type": "markdown",
   "metadata": {},
   "source": [
    "## Problems:\n",
    "\n",
    "### Problem-1 \n",
    "Given an array A[0...n– 1] of n numbers containing the repetition of some number. Give an algorithm for checking whether there are repeated elements or not. Assume that we are not allowed to use additional space (i.e., we can use a few temporary variables,O(1) storage)."
   ]
  },
  {
   "cell_type": "code",
   "execution_count": 17,
   "metadata": {},
   "outputs": [],
   "source": [
    "def checkDuplicates(array):\n",
    "    quickSort(array,0,len(array)-1)\n",
    "    oldElement = None\n",
    "    for element in array:\n",
    "        if oldElement == None:\n",
    "            oldElement = element\n",
    "            continue\n",
    "        if oldElement == element:\n",
    "            return True\n",
    "        oldElement = element\n",
    "    return False\n",
    "        "
   ]
  },
  {
   "cell_type": "code",
   "execution_count": 18,
   "metadata": {},
   "outputs": [
    {
     "data": {
      "text/plain": [
       "True"
      ]
     },
     "execution_count": 18,
     "metadata": {},
     "output_type": "execute_result"
    }
   ],
   "source": [
    "checkDuplicates([1,2,3,4,5,6,4])"
   ]
  },
  {
   "cell_type": "markdown",
   "metadata": {},
   "source": [
    "## Problem 2 :\n",
    "Given an array A[0 ...n – 1], where each element of the array represents a vote in the election. Assume that each vote is given as an integer representing the ID of the chosen candidate. Give an algorithm for determining who wins the election.\n",
    "\n",
    "### Solution 1: \n",
    "Time: nlog(n)"
   ]
  },
  {
   "cell_type": "code",
   "execution_count": 19,
   "metadata": {},
   "outputs": [],
   "source": [
    "def checkWin(array):\n",
    "    mergeSort(array, 0,len(array)-1)\n",
    "    \n",
    "    maxCounter = None\n",
    "    maxCandidate = None\n",
    "    oldVal = None\n",
    "    currenCounter = 0\n",
    "    for val in array:\n",
    "        if maxCandidate == None:\n",
    "            maxCandidate = val\n",
    "            maxCounter = 1\n",
    "            oldVal = val\n",
    "            currenCounter = 1\n",
    "            continue\n",
    "        if val == oldVal:\n",
    "            currenCounter += 1\n",
    "            if currenCounter > maxCounter:\n",
    "                maxCandidate = oldVal\n",
    "                maxCounter = currenCounter\n",
    "        else:\n",
    "            if currenCounter > maxCounter:\n",
    "                maxCandidate = oldVal\n",
    "                maxCounter = currenCounter\n",
    "                \n",
    "            currenCounter = 1\n",
    "            \n",
    "        oldVal = val\n",
    "    return maxCandidate\n"
   ]
  },
  {
   "cell_type": "code",
   "execution_count": null,
   "metadata": {},
   "outputs": [],
   "source": []
  },
  {
   "cell_type": "markdown",
   "metadata": {},
   "source": [
    "### Solution 2: Using map\n",
    "Since we have limited number of different numbers, We. can use countsort\n",
    "Time: O(n)\n",
    "Space: O(k)"
   ]
  },
  {
   "cell_type": "code",
   "execution_count": 20,
   "metadata": {},
   "outputs": [],
   "source": [
    "# Since we dont have candidate count we have to use dictionary instead of array to count\n",
    "def checkWin(array):\n",
    "    candiates = {}\n",
    "    \n",
    "    for val in array:\n",
    "        if val in candiates:\n",
    "            candiates[val] += 1\n",
    "        else:\n",
    "            candiates[val] = 1\n",
    "    maxCandidate = None\n",
    "    maxCount = None\n",
    "    print(candiates)\n",
    "    for (key,value) in candiates.items():\n",
    "        if maxCandidate == None:\n",
    "            maxCandidate = key\n",
    "            maxCount = value\n",
    "\n",
    "\n",
    "        if value > maxCount:\n",
    "            maxCandidate = key\n",
    "            maxCount = value\n",
    "            \n",
    "    return maxCandidate"
   ]
  },
  {
   "cell_type": "code",
   "execution_count": 21,
   "metadata": {},
   "outputs": [
    {
     "name": "stdout",
     "output_type": "stream",
     "text": [
      "{2: 1, 3: 4, 4: 1, 5: 6, 1: 3}\n"
     ]
    },
    {
     "data": {
      "text/plain": [
       "5"
      ]
     },
     "execution_count": 21,
     "metadata": {},
     "output_type": "execute_result"
    }
   ],
   "source": [
    "checkWin([2,3,4,3,5,5,5,5,5,5,3,3,1,1,1])\n"
   ]
  },
  {
   "cell_type": "markdown",
   "metadata": {},
   "source": [
    "Problem-6 Given an array A of n elements, each of which is an integer in the range [1, n2],\n",
    "how do we sort the array in O(n) time?\n",
    "\n",
    "Solution: If we subtract each number by 1 then we get the range [0, n2 – 1]. If we consider all\n",
    "numbers as 2 –digit base n. Each digit ranges from 0 to n2 – 1. Sort this using radix sort. This uses\n",
    "only two calls to counting sort. Finally, add 1 to all the numbers. Since there are 2 calls, the\n",
    "complexity is O(2n) ≈ O(n).\n",
    "\n",
    "Problem-7 For Problem-6, what if the range is [1... n3]?\n",
    "\n",
    "Solution: If we subtract each number by 1 then we get the range [0, n3 – 1]. Considering all\n",
    "numbers as 3-digit base n: each digit ranges from 0 to n3 – 1. Sort this using radix sort. This uses\n",
    "only three calls to counting sort. Finally, add 1 to all the numbers. Since there are 3 calls, the\n",
    "complexity is O(3n) ≈ O(n).\n",
    "\n",
    "Problem-8 Given an array with n integers, each of value less than n100, can it be sorted in\n",
    "linear time?\n",
    "\n",
    "Solution: Yes. The reasoning is same as in of Problem-6 and Problem-7."
   ]
  },
  {
   "cell_type": "markdown",
   "metadata": {},
   "source": [
    "## Problem 3: \n",
    "Let A and B be two arrays of n elements each. Given a number K, give an O(nlogn) time algorithm for determining whether there exists a ∈ A and b ∈ B such that a + b = K.\n",
    "\n",
    "#### Solution 1:\n",
    "1. Sort array A.\n",
    "2. Loop over array B\n",
    "3. Check if any elements compliment exist in A using Binary Search"
   ]
  },
  {
   "cell_type": "code",
   "execution_count": 29,
   "metadata": {},
   "outputs": [],
   "source": [
    "def findPair(A,B,number):\n",
    "    mergeSort(A,0,len(A)-1)\n",
    "    for val in B:\n",
    "        c = number - val\n",
    "        if binarySearch(A,c):\n",
    "            return True\n",
    "    return False"
   ]
  },
  {
   "cell_type": "code",
   "execution_count": 31,
   "metadata": {
    "scrolled": true
   },
   "outputs": [
    {
     "data": {
      "text/plain": [
       "True"
      ]
     },
     "execution_count": 31,
     "metadata": {},
     "output_type": "execute_result"
    }
   ],
   "source": [
    "A = [3,2,5,7,3,2,1]\n",
    "B = [2,4,2,5,6,7,8,9,3]\n",
    "findPair(A,B,10)"
   ]
  },
  {
   "cell_type": "markdown",
   "metadata": {},
   "source": [
    "### Solution 2:\n",
    "Create dictionary in first pass. Search of complement in second pass.\n",
    "\n",
    "### Solution 3:\n",
    "1. hasArrayTwoCandidates (A[], ar_size, sum)\n",
    "2. Sort the array in non-decreasing order.\n",
    "3. Initialize two index variables to find the candidate \n",
    "    elements in the sorted array. \n",
    "    Initialize first to the leftmost index: l = 0\n",
    "    Initialize second the rightmost index: r = ar_size-1\n",
    "4. Loop while l < r. \n",
    "    If (A[l] + A[r] == sum) then return 1\n",
    "    Else if( A[l] + A[r] < sum ) then l++\n",
    "    Else r–\n",
    "5. No candidates in the whole array – return 0"
   ]
  },
  {
   "cell_type": "markdown",
   "metadata": {},
   "source": [
    "### TODO:\n",
    "Searching Problem: Let A,B and C be three arrays of n elements each. Given a number K, give an\n",
    "O(nlogn) time algorithm for determining whether there exists a ∈ A, b ∈ B and c ∈ C such\n",
    "that a + b + c = K."
   ]
  },
  {
   "cell_type": "markdown",
   "metadata": {},
   "source": [
    "## Problem 4:\n",
    "Sort an array of 0’s, 1’s and 2’s: Given an array A[] consisting of 0’s, 1’s and\n",
    "2’s, give an algorithm for sorting A[]. The algorithm should put all 0’s first, then all 1’s and\n",
    "all 2’s last.<br>"
   ]
  },
  {
   "cell_type": "code",
   "execution_count": 1,
   "metadata": {},
   "outputs": [],
   "source": [
    "# Using count sort algorithm\n",
    "\n",
    "def sort012(array):\n",
    "    count = [0,0,0]\n",
    "    result = [0] * len(array)\n",
    "    for i in range(len(array)):\n",
    "        count[array[i]] += 1\n",
    "    \n",
    "    for i in range(1,len(count)):\n",
    "        count[i] += count[i-1]\n",
    "    for i in array:\n",
    "        result[count[i] - 1] = i\n",
    "        count[i] -= 1\n",
    "    return result\n",
    "\n",
    "    "
   ]
  },
  {
   "cell_type": "code",
   "execution_count": 4,
   "metadata": {},
   "outputs": [
    {
     "data": {
      "text/plain": [
       "[1, 1, 2, 2]"
      ]
     },
     "execution_count": 4,
     "metadata": {},
     "output_type": "execute_result"
    }
   ],
   "source": [
    "sort012([2,1,2,1])"
   ]
  },
  {
   "cell_type": "markdown",
   "metadata": {},
   "source": [
    "#### Solution2: \n",
    "Using Quick dort. Since we know that there are only 3 elements, 0,1 and 2 in the array,\n",
    "we can select 1 as a pivot element for Quick sort. Quick sort finds the correct place for 1 by\n",
    "moving all 0’s to the left of 1 and all 2’s to the right of 1. For doing this it uses only one scan."
   ]
  },
  {
   "cell_type": "code",
   "execution_count": 25,
   "metadata": {},
   "outputs": [],
   "source": [
    "def sort012(array):\n",
    "    pivotValue = 1\n",
    "    pivotIndex = 0\n",
    "    for i in range(len(array)):\n",
    "        if array[i] <= pivotValue:\n",
    "            # swap\n",
    "            array[i], array[pivotIndex] = array[pivotIndex], array[i]\n",
    "            pivotIndex += 1\n",
    "    return array\n",
    "\n",
    "def partition(array, start, end):\n",
    "    pivot = 1#array[end]\n",
    "    pIndex = start\n",
    "    #Find exact pIndex where we can place our pivot value\n",
    "    for i in range(start, end):\n",
    "        if array[i] <= pivot:\n",
    "            #swap\n",
    "            array[i], array[pIndex] = array[pIndex], array[i]\n",
    "            pIndex += 1\n",
    "    # Place pivot value at new pIndex\n",
    "#     array[pIndex], array[end] = array[end], array[pIndex]\n",
    "    return pIndex"
   ]
  },
  {
   "cell_type": "code",
   "execution_count": 26,
   "metadata": {},
   "outputs": [
    {
     "data": {
      "text/plain": [
       "3"
      ]
     },
     "execution_count": 26,
     "metadata": {},
     "output_type": "execute_result"
    }
   ],
   "source": [
    "a = [2,1,0,2,1,0]\n",
    "# sort012()\n",
    "partition(a,0,len(a)-1)"
   ]
  },
  {
   "cell_type": "code",
   "execution_count": 27,
   "metadata": {},
   "outputs": [
    {
     "data": {
      "text/plain": [
       "[1, 0, 1, 2, 2, 0]"
      ]
     },
     "execution_count": 27,
     "metadata": {},
     "output_type": "execute_result"
    }
   ],
   "source": [
    "a"
   ]
  },
  {
   "cell_type": "markdown",
   "metadata": {},
   "source": [
    "## Problem 5: \n",
    "Given an array of n elements, can we output in sorted order the K elements\n",
    "following the median in sorted order in time O(n + KlogK)."
   ]
  },
  {
   "cell_type": "code",
   "execution_count": 41,
   "metadata": {},
   "outputs": [],
   "source": [
    "def medianOfMedians(array):\n",
    "    # Devide array into subarray of size 5\n",
    "    sublists = [array[i : i + 5] for i in range(0,len(array),5)]\n",
    "    # Sort sublists\n",
    "    sublists = [sorted(sublist) for sublist in sublists]\n",
    "    # Get medians \n",
    "    medians = [sublist[int(len(sublist)/2)] for sublist in sublists]\n",
    "    if len(medians) > 1:\n",
    "        medianOfMedians(medians)\n",
    "        \n",
    "#     print(medians)"
   ]
  },
  {
   "cell_type": "code",
   "execution_count": 42,
   "metadata": {},
   "outputs": [],
   "source": [
    "# def getKSortedFromMedian(array):\n",
    "    \n",
    "    "
   ]
  },
  {
   "cell_type": "code",
   "execution_count": 43,
   "metadata": {},
   "outputs": [],
   "source": [
    "array = [0,1,2,3,4,5,6,7,8]\n",
    "\n",
    "medianOfMedians(array)\n",
    "# int(len(array)/2)"
   ]
  },
  {
   "cell_type": "markdown",
   "metadata": {},
   "source": []
  },
  {
   "cell_type": "code",
   "execution_count": null,
   "metadata": {},
   "outputs": [],
   "source": []
  }
 ],
 "metadata": {
  "kernelspec": {
   "display_name": "Python 3",
   "language": "python",
   "name": "python3"
  },
  "language_info": {
   "codemirror_mode": {
    "name": "ipython",
    "version": 3
   },
   "file_extension": ".py",
   "mimetype": "text/x-python",
   "name": "python",
   "nbconvert_exporter": "python",
   "pygments_lexer": "ipython3",
   "version": "3.8.3"
  }
 },
 "nbformat": 4,
 "nbformat_minor": 4
}
